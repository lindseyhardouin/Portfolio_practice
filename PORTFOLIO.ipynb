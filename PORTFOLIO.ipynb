{
 "cells": [
  {
   "cell_type": "markdown",
   "metadata": {},
   "source": [
    "Imports"
   ]
  },
  {
   "cell_type": "code",
   "execution_count": 13,
   "metadata": {},
   "outputs": [],
   "source": [
    "# Imports\n",
    "\n",
    "import os\n",
    "import requests\n",
    "import json\n",
    "import pandas as pd\n",
    "import numpy as np\n",
    "import alpaca_trade_api as alpaca\n",
    "from alpaca_trade_api import REST, TimeFrame\n"
   ]
  },
  {
   "cell_type": "markdown",
   "metadata": {},
   "source": [
    "Tickers"
   ]
  },
  {
   "cell_type": "code",
   "execution_count": 65,
   "metadata": {},
   "outputs": [],
   "source": [
    "# Set tickers\n",
    "\n",
    "tickers = [\n",
    "    #\"ARKK\", \n",
    "    #\"ARKQ\", \n",
    "    \"AXP\", \n",
    "    \"FB\", \n",
    "    \"HD\", \n",
    "    \"JPM\", \n",
    "    \"MA\", \n",
    "    #\"NLS\", \n",
    "    \"TSLA\", \n",
    "    \"UAL\", \n",
    "    \"UBER\", \n",
    "    #\"VALE\",\n",
    "    \"F\",\n",
    "    \"EOG\",\n",
    "    \"TWTR\"\n",
    "]"
   ]
  },
  {
   "cell_type": "markdown",
   "metadata": {},
   "source": [
    "Connection"
   ]
  },
  {
   "cell_type": "code",
   "execution_count": 3,
   "metadata": {},
   "outputs": [],
   "source": [
    "# Set the variables for the Alpaca API and secret keys\n",
    "\n",
    "connection = REST()\n"
   ]
  },
  {
   "cell_type": "markdown",
   "metadata": {},
   "source": [
    "Close prices Function"
   ]
  },
  {
   "cell_type": "code",
   "execution_count": 72,
   "metadata": {},
   "outputs": [
    {
     "data": {
      "text/html": [
       "<div>\n",
       "<style scoped>\n",
       "    .dataframe tbody tr th:only-of-type {\n",
       "        vertical-align: middle;\n",
       "    }\n",
       "\n",
       "    .dataframe tbody tr th {\n",
       "        vertical-align: top;\n",
       "    }\n",
       "\n",
       "    .dataframe thead th {\n",
       "        text-align: right;\n",
       "    }\n",
       "</style>\n",
       "<table border=\"1\" class=\"dataframe\">\n",
       "  <thead>\n",
       "    <tr style=\"text-align: right;\">\n",
       "      <th></th>\n",
       "      <th>AXP</th>\n",
       "      <th>EOG</th>\n",
       "      <th>F</th>\n",
       "      <th>FB</th>\n",
       "      <th>HD</th>\n",
       "      <th>JPM</th>\n",
       "      <th>MA</th>\n",
       "      <th>TSLA</th>\n",
       "      <th>TWTR</th>\n",
       "      <th>UAL</th>\n",
       "      <th>UBER</th>\n",
       "    </tr>\n",
       "    <tr>\n",
       "      <th>time</th>\n",
       "      <th></th>\n",
       "      <th></th>\n",
       "      <th></th>\n",
       "      <th></th>\n",
       "      <th></th>\n",
       "      <th></th>\n",
       "      <th></th>\n",
       "      <th></th>\n",
       "      <th></th>\n",
       "      <th></th>\n",
       "      <th></th>\n",
       "    </tr>\n",
       "  </thead>\n",
       "  <tbody>\n",
       "    <tr>\n",
       "      <th>2021-08-04 00:00:00-04:00</th>\n",
       "      <td>168.08</td>\n",
       "      <td>70.73</td>\n",
       "      <td>13.320</td>\n",
       "      <td>358.86</td>\n",
       "      <td>330.32</td>\n",
       "      <td>151.230</td>\n",
       "      <td>368.00</td>\n",
       "      <td>710.91</td>\n",
       "      <td>68.720</td>\n",
       "      <td>45.28</td>\n",
       "      <td>41.8000</td>\n",
       "    </tr>\n",
       "    <tr>\n",
       "      <th>2021-08-05 00:00:00-04:00</th>\n",
       "      <td>169.63</td>\n",
       "      <td>70.72</td>\n",
       "      <td>13.710</td>\n",
       "      <td>362.97</td>\n",
       "      <td>333.04</td>\n",
       "      <td>153.150</td>\n",
       "      <td>371.94</td>\n",
       "      <td>714.63</td>\n",
       "      <td>69.280</td>\n",
       "      <td>47.23</td>\n",
       "      <td>43.0700</td>\n",
       "    </tr>\n",
       "    <tr>\n",
       "      <th>2021-08-06 00:00:00-04:00</th>\n",
       "      <td>171.33</td>\n",
       "      <td>70.93</td>\n",
       "      <td>13.790</td>\n",
       "      <td>363.49</td>\n",
       "      <td>329.84</td>\n",
       "      <td>157.497</td>\n",
       "      <td>374.74</td>\n",
       "      <td>698.89</td>\n",
       "      <td>67.380</td>\n",
       "      <td>47.62</td>\n",
       "      <td>44.2801</td>\n",
       "    </tr>\n",
       "    <tr>\n",
       "      <th>2021-08-09 00:00:00-04:00</th>\n",
       "      <td>170.78</td>\n",
       "      <td>69.38</td>\n",
       "      <td>13.760</td>\n",
       "      <td>361.61</td>\n",
       "      <td>328.65</td>\n",
       "      <td>157.331</td>\n",
       "      <td>370.68</td>\n",
       "      <td>713.73</td>\n",
       "      <td>67.015</td>\n",
       "      <td>46.45</td>\n",
       "      <td>43.2434</td>\n",
       "    </tr>\n",
       "    <tr>\n",
       "      <th>2021-08-10 00:00:00-04:00</th>\n",
       "      <td>169.50</td>\n",
       "      <td>68.73</td>\n",
       "      <td>13.810</td>\n",
       "      <td>361.13</td>\n",
       "      <td>331.51</td>\n",
       "      <td>159.250</td>\n",
       "      <td>367.81</td>\n",
       "      <td>709.99</td>\n",
       "      <td>65.670</td>\n",
       "      <td>47.68</td>\n",
       "      <td>43.5000</td>\n",
       "    </tr>\n",
       "    <tr>\n",
       "      <th>...</th>\n",
       "      <td>...</td>\n",
       "      <td>...</td>\n",
       "      <td>...</td>\n",
       "      <td>...</td>\n",
       "      <td>...</td>\n",
       "      <td>...</td>\n",
       "      <td>...</td>\n",
       "      <td>...</td>\n",
       "      <td>...</td>\n",
       "      <td>...</td>\n",
       "      <td>...</td>\n",
       "    </tr>\n",
       "    <tr>\n",
       "      <th>2021-12-17 00:00:00-05:00</th>\n",
       "      <td>160.00</td>\n",
       "      <td>84.02</td>\n",
       "      <td>19.770</td>\n",
       "      <td>334.05</td>\n",
       "      <td>387.90</td>\n",
       "      <td>156.780</td>\n",
       "      <td>349.30</td>\n",
       "      <td>931.15</td>\n",
       "      <td>43.070</td>\n",
       "      <td>40.78</td>\n",
       "      <td>39.6700</td>\n",
       "    </tr>\n",
       "    <tr>\n",
       "      <th>2021-12-20 00:00:00-05:00</th>\n",
       "      <td>155.88</td>\n",
       "      <td>83.56</td>\n",
       "      <td>19.420</td>\n",
       "      <td>325.62</td>\n",
       "      <td>389.53</td>\n",
       "      <td>153.950</td>\n",
       "      <td>337.29</td>\n",
       "      <td>900.10</td>\n",
       "      <td>42.990</td>\n",
       "      <td>41.10</td>\n",
       "      <td>39.7000</td>\n",
       "    </tr>\n",
       "    <tr>\n",
       "      <th>2021-12-21 00:00:00-05:00</th>\n",
       "      <td>160.97</td>\n",
       "      <td>86.37</td>\n",
       "      <td>19.620</td>\n",
       "      <td>334.25</td>\n",
       "      <td>390.51</td>\n",
       "      <td>156.100</td>\n",
       "      <td>350.83</td>\n",
       "      <td>938.41</td>\n",
       "      <td>44.370</td>\n",
       "      <td>43.94</td>\n",
       "      <td>41.9800</td>\n",
       "    </tr>\n",
       "    <tr>\n",
       "      <th>2021-12-22 00:00:00-05:00</th>\n",
       "      <td>162.48</td>\n",
       "      <td>87.22</td>\n",
       "      <td>20.145</td>\n",
       "      <td>330.52</td>\n",
       "      <td>395.69</td>\n",
       "      <td>156.690</td>\n",
       "      <td>357.43</td>\n",
       "      <td>1008.63</td>\n",
       "      <td>43.910</td>\n",
       "      <td>44.56</td>\n",
       "      <td>43.0200</td>\n",
       "    </tr>\n",
       "    <tr>\n",
       "      <th>2021-12-23 00:00:00-05:00</th>\n",
       "      <td>164.16</td>\n",
       "      <td>87.14</td>\n",
       "      <td>20.250</td>\n",
       "      <td>335.16</td>\n",
       "      <td>397.07</td>\n",
       "      <td>157.260</td>\n",
       "      <td>360.59</td>\n",
       "      <td>1067.46</td>\n",
       "      <td>44.160</td>\n",
       "      <td>44.86</td>\n",
       "      <td>43.9126</td>\n",
       "    </tr>\n",
       "  </tbody>\n",
       "</table>\n",
       "<p>100 rows × 11 columns</p>\n",
       "</div>"
      ],
      "text/plain": [
       "                              AXP    EOG       F      FB      HD      JPM  \\\n",
       "time                                                                        \n",
       "2021-08-04 00:00:00-04:00  168.08  70.73  13.320  358.86  330.32  151.230   \n",
       "2021-08-05 00:00:00-04:00  169.63  70.72  13.710  362.97  333.04  153.150   \n",
       "2021-08-06 00:00:00-04:00  171.33  70.93  13.790  363.49  329.84  157.497   \n",
       "2021-08-09 00:00:00-04:00  170.78  69.38  13.760  361.61  328.65  157.331   \n",
       "2021-08-10 00:00:00-04:00  169.50  68.73  13.810  361.13  331.51  159.250   \n",
       "...                           ...    ...     ...     ...     ...      ...   \n",
       "2021-12-17 00:00:00-05:00  160.00  84.02  19.770  334.05  387.90  156.780   \n",
       "2021-12-20 00:00:00-05:00  155.88  83.56  19.420  325.62  389.53  153.950   \n",
       "2021-12-21 00:00:00-05:00  160.97  86.37  19.620  334.25  390.51  156.100   \n",
       "2021-12-22 00:00:00-05:00  162.48  87.22  20.145  330.52  395.69  156.690   \n",
       "2021-12-23 00:00:00-05:00  164.16  87.14  20.250  335.16  397.07  157.260   \n",
       "\n",
       "                               MA     TSLA    TWTR    UAL     UBER  \n",
       "time                                                                \n",
       "2021-08-04 00:00:00-04:00  368.00   710.91  68.720  45.28  41.8000  \n",
       "2021-08-05 00:00:00-04:00  371.94   714.63  69.280  47.23  43.0700  \n",
       "2021-08-06 00:00:00-04:00  374.74   698.89  67.380  47.62  44.2801  \n",
       "2021-08-09 00:00:00-04:00  370.68   713.73  67.015  46.45  43.2434  \n",
       "2021-08-10 00:00:00-04:00  367.81   709.99  65.670  47.68  43.5000  \n",
       "...                           ...      ...     ...    ...      ...  \n",
       "2021-12-17 00:00:00-05:00  349.30   931.15  43.070  40.78  39.6700  \n",
       "2021-12-20 00:00:00-05:00  337.29   900.10  42.990  41.10  39.7000  \n",
       "2021-12-21 00:00:00-05:00  350.83   938.41  44.370  43.94  41.9800  \n",
       "2021-12-22 00:00:00-05:00  357.43  1008.63  43.910  44.56  43.0200  \n",
       "2021-12-23 00:00:00-05:00  360.59  1067.46  44.160  44.86  43.9126  \n",
       "\n",
       "[100 rows x 11 columns]"
      ]
     },
     "execution_count": 72,
     "metadata": {},
     "output_type": "execute_result"
    }
   ],
   "source": [
    "\n",
    "\n",
    "timeframe = \"1D\"\n",
    "\n",
    "\n",
    "def get_close_prices(ticker):\n",
    "    prices=connection.get_barset(\n",
    "    ticker, \n",
    "    timeframe, \n",
    "    start=2019-6-1, \n",
    "    end=2021-12-22\n",
    ").df\n",
    "\n",
    "    prices = prices.xs(\"close\", level=1, axis=\"columns\")\n",
    "\n",
    "    return(pd.DataFrame(prices))\n",
    "    \n",
    "close_prices = get_close_prices(tickers)\n",
    "\n",
    "close_prices\n",
    "    "
   ]
  },
  {
   "cell_type": "markdown",
   "metadata": {},
   "source": [
    "Plot close prices"
   ]
  },
  {
   "cell_type": "code",
   "execution_count": 67,
   "metadata": {},
   "outputs": [
    {
     "data": {
      "text/plain": [
       "<AxesSubplot:xlabel='time'>"
      ]
     },
     "execution_count": 67,
     "metadata": {},
     "output_type": "execute_result"
    },
    {
     "data": {
      "image/png": "[encoded data removed]",
      "text/plain": [
       "<Figure size 1080x576 with 1 Axes>"
      ]
     },
     "metadata": {
      "needs_background": "light"
     },
     "output_type": "display_data"
    }
   ],
   "source": [
    "close_prices.plot(\n",
    "    figsize=(15,8)\n",
    ")"
   ]
  },
  {
   "cell_type": "markdown",
   "metadata": {},
   "source": [
    "Returns"
   ]
  },
  {
   "cell_type": "code",
   "execution_count": 68,
   "metadata": {},
   "outputs": [
    {
     "data": {
      "text/plain": [
       "TWTR   -1.052088\n",
       "FB     -0.133350\n",
       "AXP    -0.013795\n",
       "MA     -0.001531\n",
       "UAL     0.075831\n",
       "JPM     0.120349\n",
       "UBER    0.236041\n",
       "HD      0.490181\n",
       "EOG     0.600495\n",
       "F       1.146290\n",
       "TSLA    1.169136\n",
       "dtype: float64"
      ]
     },
     "execution_count": 68,
     "metadata": {},
     "output_type": "execute_result"
    }
   ],
   "source": [
    "# Calculate the aggregate daily returns\n",
    "\n",
    "returns = close_prices.pct_change().dropna()\n",
    "\n",
    "returns\n",
    "\n",
    "\n",
    "# Calculate the annualized average return data\n",
    "\n",
    "returns_annualized = returns.mean() * 252\n",
    "\n",
    "returns_annualized.sort_values()\n"
   ]
  },
  {
   "cell_type": "markdown",
   "metadata": {},
   "source": [
    "Standard Deviation"
   ]
  },
  {
   "cell_type": "code",
   "execution_count": 69,
   "metadata": {},
   "outputs": [
    {
     "data": {
      "text/plain": [
       "JPM     0.205122\n",
       "HD      0.207449\n",
       "FB      0.284962\n",
       "AXP     0.304775\n",
       "MA      0.318014\n",
       "EOG     0.374894\n",
       "TWTR    0.375827\n",
       "F       0.399716\n",
       "UAL     0.449204\n",
       "UBER    0.476225\n",
       "TSLA    0.517075\n",
       "dtype: float64"
      ]
     },
     "execution_count": 69,
     "metadata": {},
     "output_type": "execute_result"
    }
   ],
   "source": [
    "# Calculate the standard deviation\n",
    "\n",
    "std = returns.std()\n",
    "\n",
    "std\n",
    "\n",
    "\n",
    "# Calculate the annualized standard deviation (252 trading days)\n",
    "\n",
    "std_annualized = (std * np.sqrt(252))\n",
    "\n",
    "std_annualized.sort_values()\n"
   ]
  },
  {
   "cell_type": "markdown",
   "metadata": {},
   "source": [
    "Sharpe Ratio"
   ]
  },
  {
   "cell_type": "code",
   "execution_count": 70,
   "metadata": {},
   "outputs": [
    {
     "data": {
      "text/plain": [
       "TWTR   -2.799394\n",
       "FB     -0.467958\n",
       "AXP    -0.045264\n",
       "MA     -0.004816\n",
       "UAL     0.168813\n",
       "UBER    0.495650\n",
       "JPM     0.586720\n",
       "EOG     1.601773\n",
       "TSLA    2.261059\n",
       "HD      2.362903\n",
       "F       2.867759\n",
       "dtype: float64"
      ]
     },
     "execution_count": 70,
     "metadata": {},
     "output_type": "execute_result"
    }
   ],
   "source": [
    "# Calculate the annualized Sharpe Ratios\n",
    "\n",
    "sharpe_ratio = returns_annualized / std_annualized\n",
    "\n",
    "sharpe_ratio.sort_values()\n"
   ]
  }
 ],
 "metadata": {
  "interpreter": {
   "hash": "94f5251e701b57bc4b73cb646e598269233ff9addb0c9b7607e15955ec6c5d3b"
  },
  "kernelspec": {
   "display_name": "Python 3.7.10 64-bit ('pyviz': conda)",
   "language": "python",
   "name": "python3"
  },
  "language_info": {
   "codemirror_mode": {
    "name": "ipython",
    "version": 3
   },
   "file_extension": ".py",
   "mimetype": "text/x-python",
   "name": "python",
   "nbconvert_exporter": "python",
   "pygments_lexer": "ipython3",
   "version": "3.7.10"
  },
  "orig_nbformat": 4
 },
 "nbformat": 4,
 "nbformat_minor": 2
}
