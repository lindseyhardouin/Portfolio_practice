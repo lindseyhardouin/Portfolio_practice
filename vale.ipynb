{
 "cells": [
  {
   "cell_type": "code",
   "execution_count": 74,
   "metadata": {},
   "outputs": [],
   "source": [
    "#Imports\n",
    "\n",
    "import os\n",
    "import requests\n",
    "import json\n",
    "import pandas as pd\n",
    "import numpy as np\n",
    "import alpaca_trade_api as alpaca\n",
    "from alpaca_trade_api import REST, TimeFrame\n"
   ]
  },
  {
   "cell_type": "markdown",
   "metadata": {},
   "source": [
    "Ticker"
   ]
  },
  {
   "cell_type": "code",
   "execution_count": 75,
   "metadata": {},
   "outputs": [],
   "source": [
    "tickers = \"VALE\""
   ]
  },
  {
   "cell_type": "markdown",
   "metadata": {},
   "source": [
    "Timeframe"
   ]
  },
  {
   "cell_type": "code",
   "execution_count": 76,
   "metadata": {},
   "outputs": [],
   "source": [
    "timeframe = \"1D\"\n",
    "\n",
    "\n",
    "\n",
    "start_date = pd.Timestamp(\"2018-01-29\", tz=\"America/New_York\").isoformat()\n",
    "end_date = pd.Timestamp(\"2022-1-14\", tz=\"America/New_York\").isoformat()\n"
   ]
  },
  {
   "cell_type": "markdown",
   "metadata": {},
   "source": [
    "Connection/Get Barset"
   ]
  },
  {
   "cell_type": "code",
   "execution_count": 77,
   "metadata": {},
   "outputs": [],
   "source": [
    "connection = REST()"
   ]
  },
  {
   "cell_type": "code",
   "execution_count": 78,
   "metadata": {},
   "outputs": [
    {
     "data": {
      "text/html": [
       "<div>\n",
       "<style scoped>\n",
       "    .dataframe tbody tr th:only-of-type {\n",
       "        vertical-align: middle;\n",
       "    }\n",
       "\n",
       "    .dataframe tbody tr th {\n",
       "        vertical-align: top;\n",
       "    }\n",
       "\n",
       "    .dataframe thead tr th {\n",
       "        text-align: left;\n",
       "    }\n",
       "\n",
       "    .dataframe thead tr:last-of-type th {\n",
       "        text-align: right;\n",
       "    }\n",
       "</style>\n",
       "<table border=\"1\" class=\"dataframe\">\n",
       "  <thead>\n",
       "    <tr>\n",
       "      <th></th>\n",
       "      <th colspan=\"5\" halign=\"left\">VALE</th>\n",
       "    </tr>\n",
       "    <tr>\n",
       "      <th></th>\n",
       "      <th>open</th>\n",
       "      <th>high</th>\n",
       "      <th>low</th>\n",
       "      <th>close</th>\n",
       "      <th>volume</th>\n",
       "    </tr>\n",
       "    <tr>\n",
       "      <th>time</th>\n",
       "      <th></th>\n",
       "      <th></th>\n",
       "      <th></th>\n",
       "      <th></th>\n",
       "      <th></th>\n",
       "    </tr>\n",
       "  </thead>\n",
       "  <tbody>\n",
       "    <tr>\n",
       "      <th>2018-01-29 00:00:00-05:00</th>\n",
       "      <td>13.21</td>\n",
       "      <td>13.24</td>\n",
       "      <td>12.9700</td>\n",
       "      <td>13.0500</td>\n",
       "      <td>14505054</td>\n",
       "    </tr>\n",
       "    <tr>\n",
       "      <th>2018-01-30 00:00:00-05:00</th>\n",
       "      <td>13.06</td>\n",
       "      <td>13.11</td>\n",
       "      <td>12.8900</td>\n",
       "      <td>12.9900</td>\n",
       "      <td>20470056</td>\n",
       "    </tr>\n",
       "    <tr>\n",
       "      <th>2018-01-31 00:00:00-05:00</th>\n",
       "      <td>13.41</td>\n",
       "      <td>13.42</td>\n",
       "      <td>12.9250</td>\n",
       "      <td>13.0900</td>\n",
       "      <td>24395030</td>\n",
       "    </tr>\n",
       "    <tr>\n",
       "      <th>2018-02-01 00:00:00-05:00</th>\n",
       "      <td>13.09</td>\n",
       "      <td>13.35</td>\n",
       "      <td>13.0800</td>\n",
       "      <td>13.1735</td>\n",
       "      <td>22225007</td>\n",
       "    </tr>\n",
       "    <tr>\n",
       "      <th>2018-02-02 00:00:00-05:00</th>\n",
       "      <td>12.87</td>\n",
       "      <td>12.93</td>\n",
       "      <td>12.5300</td>\n",
       "      <td>12.5500</td>\n",
       "      <td>30830760</td>\n",
       "    </tr>\n",
       "    <tr>\n",
       "      <th>...</th>\n",
       "      <td>...</td>\n",
       "      <td>...</td>\n",
       "      <td>...</td>\n",
       "      <td>...</td>\n",
       "      <td>...</td>\n",
       "    </tr>\n",
       "    <tr>\n",
       "      <th>2022-01-10 00:00:00-05:00</th>\n",
       "      <td>14.85</td>\n",
       "      <td>14.88</td>\n",
       "      <td>14.5250</td>\n",
       "      <td>14.6400</td>\n",
       "      <td>26965519</td>\n",
       "    </tr>\n",
       "    <tr>\n",
       "      <th>2022-01-11 00:00:00-05:00</th>\n",
       "      <td>14.88</td>\n",
       "      <td>15.25</td>\n",
       "      <td>14.8316</td>\n",
       "      <td>15.2400</td>\n",
       "      <td>28789981</td>\n",
       "    </tr>\n",
       "    <tr>\n",
       "      <th>2022-01-12 00:00:00-05:00</th>\n",
       "      <td>15.51</td>\n",
       "      <td>15.60</td>\n",
       "      <td>15.3200</td>\n",
       "      <td>15.5600</td>\n",
       "      <td>30636801</td>\n",
       "    </tr>\n",
       "    <tr>\n",
       "      <th>2022-01-13 00:00:00-05:00</th>\n",
       "      <td>15.39</td>\n",
       "      <td>15.54</td>\n",
       "      <td>15.2100</td>\n",
       "      <td>15.3000</td>\n",
       "      <td>30957684</td>\n",
       "    </tr>\n",
       "    <tr>\n",
       "      <th>2022-01-14 00:00:00-05:00</th>\n",
       "      <td>15.05</td>\n",
       "      <td>15.44</td>\n",
       "      <td>15.0300</td>\n",
       "      <td>15.3800</td>\n",
       "      <td>24218710</td>\n",
       "    </tr>\n",
       "  </tbody>\n",
       "</table>\n",
       "<p>1000 rows × 5 columns</p>\n",
       "</div>"
      ],
      "text/plain": [
       "                            VALE                                   \n",
       "                            open   high      low    close    volume\n",
       "time                                                               \n",
       "2018-01-29 00:00:00-05:00  13.21  13.24  12.9700  13.0500  14505054\n",
       "2018-01-30 00:00:00-05:00  13.06  13.11  12.8900  12.9900  20470056\n",
       "2018-01-31 00:00:00-05:00  13.41  13.42  12.9250  13.0900  24395030\n",
       "2018-02-01 00:00:00-05:00  13.09  13.35  13.0800  13.1735  22225007\n",
       "2018-02-02 00:00:00-05:00  12.87  12.93  12.5300  12.5500  30830760\n",
       "...                          ...    ...      ...      ...       ...\n",
       "2022-01-10 00:00:00-05:00  14.85  14.88  14.5250  14.6400  26965519\n",
       "2022-01-11 00:00:00-05:00  14.88  15.25  14.8316  15.2400  28789981\n",
       "2022-01-12 00:00:00-05:00  15.51  15.60  15.3200  15.5600  30636801\n",
       "2022-01-13 00:00:00-05:00  15.39  15.54  15.2100  15.3000  30957684\n",
       "2022-01-14 00:00:00-05:00  15.05  15.44  15.0300  15.3800  24218710\n",
       "\n",
       "[1000 rows x 5 columns]"
      ]
     },
     "execution_count": 78,
     "metadata": {},
     "output_type": "execute_result"
    }
   ],
   "source": [
    "prices = connection.get_barset(\n",
    "    ticker,\n",
    "    timeframe,\n",
    "    start=start_date,\n",
    "    end=end_date,\n",
    "    limit=1000\n",
    ").df\n",
    "\n",
    "\n",
    "prices\n"
   ]
  },
  {
   "cell_type": "markdown",
   "metadata": {},
   "source": [
    "Close Price function"
   ]
  },
  {
   "cell_type": "code",
   "execution_count": 79,
   "metadata": {},
   "outputs": [
    {
     "data": {
      "text/html": [
       "<div>\n",
       "<style scoped>\n",
       "    .dataframe tbody tr th:only-of-type {\n",
       "        vertical-align: middle;\n",
       "    }\n",
       "\n",
       "    .dataframe tbody tr th {\n",
       "        vertical-align: top;\n",
       "    }\n",
       "\n",
       "    .dataframe thead th {\n",
       "        text-align: right;\n",
       "    }\n",
       "</style>\n",
       "<table border=\"1\" class=\"dataframe\">\n",
       "  <thead>\n",
       "    <tr style=\"text-align: right;\">\n",
       "      <th></th>\n",
       "      <th>VALE</th>\n",
       "    </tr>\n",
       "    <tr>\n",
       "      <th>time</th>\n",
       "      <th></th>\n",
       "    </tr>\n",
       "  </thead>\n",
       "  <tbody>\n",
       "    <tr>\n",
       "      <th>2018-01-29 00:00:00-05:00</th>\n",
       "      <td>13.0500</td>\n",
       "    </tr>\n",
       "    <tr>\n",
       "      <th>2018-01-30 00:00:00-05:00</th>\n",
       "      <td>12.9900</td>\n",
       "    </tr>\n",
       "    <tr>\n",
       "      <th>2018-01-31 00:00:00-05:00</th>\n",
       "      <td>13.0900</td>\n",
       "    </tr>\n",
       "    <tr>\n",
       "      <th>2018-02-01 00:00:00-05:00</th>\n",
       "      <td>13.1735</td>\n",
       "    </tr>\n",
       "    <tr>\n",
       "      <th>2018-02-02 00:00:00-05:00</th>\n",
       "      <td>12.5500</td>\n",
       "    </tr>\n",
       "    <tr>\n",
       "      <th>...</th>\n",
       "      <td>...</td>\n",
       "    </tr>\n",
       "    <tr>\n",
       "      <th>2022-01-10 00:00:00-05:00</th>\n",
       "      <td>14.6400</td>\n",
       "    </tr>\n",
       "    <tr>\n",
       "      <th>2022-01-11 00:00:00-05:00</th>\n",
       "      <td>15.2400</td>\n",
       "    </tr>\n",
       "    <tr>\n",
       "      <th>2022-01-12 00:00:00-05:00</th>\n",
       "      <td>15.5600</td>\n",
       "    </tr>\n",
       "    <tr>\n",
       "      <th>2022-01-13 00:00:00-05:00</th>\n",
       "      <td>15.3000</td>\n",
       "    </tr>\n",
       "    <tr>\n",
       "      <th>2022-01-14 00:00:00-05:00</th>\n",
       "      <td>15.3800</td>\n",
       "    </tr>\n",
       "  </tbody>\n",
       "</table>\n",
       "<p>1000 rows × 1 columns</p>\n",
       "</div>"
      ],
      "text/plain": [
       "                              VALE\n",
       "time                              \n",
       "2018-01-29 00:00:00-05:00  13.0500\n",
       "2018-01-30 00:00:00-05:00  12.9900\n",
       "2018-01-31 00:00:00-05:00  13.0900\n",
       "2018-02-01 00:00:00-05:00  13.1735\n",
       "2018-02-02 00:00:00-05:00  12.5500\n",
       "...                            ...\n",
       "2022-01-10 00:00:00-05:00  14.6400\n",
       "2022-01-11 00:00:00-05:00  15.2400\n",
       "2022-01-12 00:00:00-05:00  15.5600\n",
       "2022-01-13 00:00:00-05:00  15.3000\n",
       "2022-01-14 00:00:00-05:00  15.3800\n",
       "\n",
       "[1000 rows x 1 columns]"
      ]
     },
     "execution_count": 79,
     "metadata": {},
     "output_type": "execute_result"
    }
   ],
   "source": [
    "def get_close_prices(ticker):\n",
    "    prices=connection.get_barset(\n",
    "    ticker, \n",
    "    timeframe, \n",
    "    start=start_date, \n",
    "    end=end_date,\n",
    "    limit=1000\n",
    ").df\n",
    "\n",
    "    prices = prices.xs(\"close\", level=1, axis=\"columns\")\n",
    "\n",
    "    return(pd.DataFrame(prices))\n",
    "    \n",
    "close_prices = get_close_prices(tickers)\n",
    "\n",
    "close_prices\n",
    "    "
   ]
  },
  {
   "cell_type": "markdown",
   "metadata": {},
   "source": [
    "Price Chart"
   ]
  },
  {
   "cell_type": "code",
   "execution_count": 80,
   "metadata": {},
   "outputs": [
    {
     "data": {
      "text/plain": [
       "<AxesSubplot:xlabel='time'>"
      ]
     },
     "execution_count": 80,
     "metadata": {},
     "output_type": "execute_result"
    },
    {
     "data": {
      "image/png": "[encoded data removed]",
      "text/plain": [
       "<Figure size 936x432 with 1 Axes>"
      ]
     },
     "metadata": {
      "needs_background": "light"
     },
     "output_type": "display_data"
    }
   ],
   "source": [
    "close_prices.plot(\n",
    "    figsize=(13,6)\n",
    ")"
   ]
  },
  {
   "cell_type": "markdown",
   "metadata": {},
   "source": [
    "Sharpe"
   ]
  },
  {
   "cell_type": "code",
   "execution_count": 81,
   "metadata": {},
   "outputs": [
    {
     "name": "stdout",
     "output_type": "stream",
     "text": [
      "returns    VALE    0.151084\n",
      "dtype: float64\n",
      "std    VALE    0.469227\n",
      "dtype: float64\n",
      "sharpe    VALE    0.321985\n",
      "dtype: float64\n"
     ]
    }
   ],
   "source": [
    "# Annual Returns\n",
    "\n",
    "ticker_annual_returns = (close_prices.pct_change().dropna()).mean() * 252\n",
    "\n",
    "\n",
    "# Annual std Deviation\n",
    "\n",
    "ticker_annual_std = ((close_prices.pct_change().dropna()).std()) * np.sqrt(252)\n",
    "\n",
    "\n",
    "# Sharpe\n",
    "\n",
    "ticker_sharpe = ticker_annual_returns / ticker_annual_std\n",
    "\n",
    "\n",
    "print(f\"returns    {ticker_annual_returns}\")\n",
    "\n",
    "print(f\"std    {ticker_annual_std}\")\n",
    "\n",
    "print(f\"sharpe    {ticker_sharpe}\")\n"
   ]
  }
 ],
 "metadata": {
  "interpreter": {
   "hash": "94f5251e701b57bc4b73cb646e598269233ff9addb0c9b7607e15955ec6c5d3b"
  },
  "kernelspec": {
   "display_name": "Python 3.7.10 64-bit ('pyviz': conda)",
   "language": "python",
   "name": "python3"
  },
  "language_info": {
   "codemirror_mode": {
    "name": "ipython",
    "version": 3
   },
   "file_extension": ".py",
   "mimetype": "text/x-python",
   "name": "python",
   "nbconvert_exporter": "python",
   "pygments_lexer": "ipython3",
   "version": "3.7.10"
  },
  "orig_nbformat": 4
 },
 "nbformat": 4,
 "nbformat_minor": 2
}
