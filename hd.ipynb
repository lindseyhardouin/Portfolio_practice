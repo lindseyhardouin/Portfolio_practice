{
 "cells": [
  {
   "cell_type": "markdown",
   "metadata": {},
   "source": [
    "Imports"
   ]
  },
  {
   "cell_type": "code",
   "execution_count": 1,
   "metadata": {},
   "outputs": [],
   "source": [
    "#Imports\n",
    "\n",
    "import os\n",
    "import requests\n",
    "import json\n",
    "import pandas as pd\n",
    "import numpy as np\n",
    "import alpaca_trade_api as alpaca\n",
    "from alpaca_trade_api import REST, TimeFrame\n"
   ]
  },
  {
   "cell_type": "markdown",
   "metadata": {},
   "source": [
    "HD Data"
   ]
  },
  {
   "cell_type": "code",
   "execution_count": 2,
   "metadata": {},
   "outputs": [
    {
     "data": {
      "text/html": [
       "<div>\n",
       "<style scoped>\n",
       "    .dataframe tbody tr th:only-of-type {\n",
       "        vertical-align: middle;\n",
       "    }\n",
       "\n",
       "    .dataframe tbody tr th {\n",
       "        vertical-align: top;\n",
       "    }\n",
       "\n",
       "    .dataframe thead th {\n",
       "        text-align: right;\n",
       "    }\n",
       "</style>\n",
       "<table border=\"1\" class=\"dataframe\">\n",
       "  <thead>\n",
       "    <tr style=\"text-align: right;\">\n",
       "      <th></th>\n",
       "      <th>Open</th>\n",
       "      <th>High</th>\n",
       "      <th>Low</th>\n",
       "      <th>Close</th>\n",
       "      <th>Adj Close</th>\n",
       "      <th>Volume</th>\n",
       "    </tr>\n",
       "    <tr>\n",
       "      <th>Date</th>\n",
       "      <th></th>\n",
       "      <th></th>\n",
       "      <th></th>\n",
       "      <th></th>\n",
       "      <th></th>\n",
       "      <th></th>\n",
       "    </tr>\n",
       "  </thead>\n",
       "  <tbody>\n",
       "    <tr>\n",
       "      <th>2017-01-03</th>\n",
       "      <td>135.100006</td>\n",
       "      <td>135.509995</td>\n",
       "      <td>133.589996</td>\n",
       "      <td>134.309998</td>\n",
       "      <td>119.600647</td>\n",
       "      <td>5299700</td>\n",
       "    </tr>\n",
       "    <tr>\n",
       "      <th>2017-01-04</th>\n",
       "      <td>134.339996</td>\n",
       "      <td>135.940002</td>\n",
       "      <td>134.210007</td>\n",
       "      <td>135.500000</td>\n",
       "      <td>120.660309</td>\n",
       "      <td>4055300</td>\n",
       "    </tr>\n",
       "    <tr>\n",
       "      <th>2017-01-05</th>\n",
       "      <td>134.979996</td>\n",
       "      <td>135.460007</td>\n",
       "      <td>133.779999</td>\n",
       "      <td>133.899994</td>\n",
       "      <td>119.235527</td>\n",
       "      <td>3821100</td>\n",
       "    </tr>\n",
       "    <tr>\n",
       "      <th>2017-01-06</th>\n",
       "      <td>133.970001</td>\n",
       "      <td>134.330002</td>\n",
       "      <td>133.050003</td>\n",
       "      <td>133.529999</td>\n",
       "      <td>118.906075</td>\n",
       "      <td>3827500</td>\n",
       "    </tr>\n",
       "    <tr>\n",
       "      <th>2017-01-09</th>\n",
       "      <td>133.220001</td>\n",
       "      <td>134.759995</td>\n",
       "      <td>133.139999</td>\n",
       "      <td>134.309998</td>\n",
       "      <td>119.600647</td>\n",
       "      <td>4310200</td>\n",
       "    </tr>\n",
       "    <tr>\n",
       "      <th>...</th>\n",
       "      <td>...</td>\n",
       "      <td>...</td>\n",
       "      <td>...</td>\n",
       "      <td>...</td>\n",
       "      <td>...</td>\n",
       "      <td>...</td>\n",
       "    </tr>\n",
       "    <tr>\n",
       "      <th>2021-12-17</th>\n",
       "      <td>396.970001</td>\n",
       "      <td>397.980011</td>\n",
       "      <td>387.420013</td>\n",
       "      <td>387.980011</td>\n",
       "      <td>387.980011</td>\n",
       "      <td>11097500</td>\n",
       "    </tr>\n",
       "    <tr>\n",
       "      <th>2021-12-20</th>\n",
       "      <td>384.290009</td>\n",
       "      <td>390.170013</td>\n",
       "      <td>380.899994</td>\n",
       "      <td>389.399994</td>\n",
       "      <td>389.399994</td>\n",
       "      <td>4294800</td>\n",
       "    </tr>\n",
       "    <tr>\n",
       "      <th>2021-12-21</th>\n",
       "      <td>391.630005</td>\n",
       "      <td>393.760010</td>\n",
       "      <td>383.239990</td>\n",
       "      <td>390.470001</td>\n",
       "      <td>390.470001</td>\n",
       "      <td>3038200</td>\n",
       "    </tr>\n",
       "    <tr>\n",
       "      <th>2021-12-22</th>\n",
       "      <td>391.000000</td>\n",
       "      <td>395.769989</td>\n",
       "      <td>388.859985</td>\n",
       "      <td>395.640015</td>\n",
       "      <td>395.640015</td>\n",
       "      <td>3267800</td>\n",
       "    </tr>\n",
       "    <tr>\n",
       "      <th>2021-12-23</th>\n",
       "      <td>398.290009</td>\n",
       "      <td>399.839996</td>\n",
       "      <td>394.619995</td>\n",
       "      <td>397.070007</td>\n",
       "      <td>397.070007</td>\n",
       "      <td>2743500</td>\n",
       "    </tr>\n",
       "  </tbody>\n",
       "</table>\n",
       "<p>1254 rows × 6 columns</p>\n",
       "</div>"
      ],
      "text/plain": [
       "                  Open        High         Low       Close   Adj Close  \\\n",
       "Date                                                                     \n",
       "2017-01-03  135.100006  135.509995  133.589996  134.309998  119.600647   \n",
       "2017-01-04  134.339996  135.940002  134.210007  135.500000  120.660309   \n",
       "2017-01-05  134.979996  135.460007  133.779999  133.899994  119.235527   \n",
       "2017-01-06  133.970001  134.330002  133.050003  133.529999  118.906075   \n",
       "2017-01-09  133.220001  134.759995  133.139999  134.309998  119.600647   \n",
       "...                ...         ...         ...         ...         ...   \n",
       "2021-12-17  396.970001  397.980011  387.420013  387.980011  387.980011   \n",
       "2021-12-20  384.290009  390.170013  380.899994  389.399994  389.399994   \n",
       "2021-12-21  391.630005  393.760010  383.239990  390.470001  390.470001   \n",
       "2021-12-22  391.000000  395.769989  388.859985  395.640015  395.640015   \n",
       "2021-12-23  398.290009  399.839996  394.619995  397.070007  397.070007   \n",
       "\n",
       "              Volume  \n",
       "Date                  \n",
       "2017-01-03   5299700  \n",
       "2017-01-04   4055300  \n",
       "2017-01-05   3821100  \n",
       "2017-01-06   3827500  \n",
       "2017-01-09   4310200  \n",
       "...              ...  \n",
       "2021-12-17  11097500  \n",
       "2021-12-20   4294800  \n",
       "2021-12-21   3038200  \n",
       "2021-12-22   3267800  \n",
       "2021-12-23   2743500  \n",
       "\n",
       "[1254 rows x 6 columns]"
      ]
     },
     "execution_count": 2,
     "metadata": {},
     "output_type": "execute_result"
    }
   ],
   "source": [
    "# Read HD data from 1.1.2017 - 12.25.21\n",
    "\n",
    "hd = pd.read_csv(\"Data/hd.csv\",\n",
    "    index_col=\"Date\",\n",
    "    parse_dates=True,\n",
    "    infer_datetime_format=True\n",
    ")\n",
    "\n",
    "hd\n"
   ]
  },
  {
   "cell_type": "markdown",
   "metadata": {},
   "source": [
    "Plot close price"
   ]
  },
  {
   "cell_type": "code",
   "execution_count": 3,
   "metadata": {},
   "outputs": [
    {
     "data": {
      "text/plain": [
       "<AxesSubplot:xlabel='Date'>"
      ]
     },
     "execution_count": 3,
     "metadata": {},
     "output_type": "execute_result"
    },
    {
     "data": {
      "image/png": "[encoded data removed]",
      "text/plain": [
       "<Figure size 936x432 with 1 Axes>"
      ]
     },
     "metadata": {
      "needs_background": "light"
     },
     "output_type": "display_data"
    }
   ],
   "source": [
    "# Plot close price column\n",
    "\n",
    "hd[\"Close\"].plot(\n",
    "    figsize=(13,6)\n",
    ")\n"
   ]
  },
  {
   "cell_type": "markdown",
   "metadata": {},
   "source": [
    "Sharpe"
   ]
  },
  {
   "cell_type": "code",
   "execution_count": 4,
   "metadata": {},
   "outputs": [
    {
     "name": "stdout",
     "output_type": "stream",
     "text": [
      "returns    0.2519988318930467\n",
      "std    0.2582263290156461\n",
      "sharpe    0.9758835702527372\n"
     ]
    }
   ],
   "source": [
    "# Annual Returns\n",
    "\n",
    "hd_annual_returns = (hd[\"Close\"].pct_change().dropna()).mean() * 252\n",
    "\n",
    "\n",
    "# Annual std Deviation\n",
    "\n",
    "hd_annual_std = ((hd[\"Close\"].pct_change().dropna()).std()) * np.sqrt(252)\n",
    "\n",
    "\n",
    "# Sharpe\n",
    "\n",
    "hd_sharpe = hd_annual_returns / hd_annual_std\n",
    "\n",
    "\n",
    "print(f\"returns    {hd_annual_returns}\")\n",
    "\n",
    "print(f\"std    {hd_annual_std}\")\n",
    "\n",
    "print(f\"sharpe    {hd_sharpe}\")\n"
   ]
  },
  {
   "cell_type": "markdown",
   "metadata": {},
   "source": [
    "Sliced - Plot close price"
   ]
  },
  {
   "cell_type": "code",
   "execution_count": 5,
   "metadata": {},
   "outputs": [
    {
     "data": {
      "text/plain": [
       "<AxesSubplot:xlabel='Date'>"
      ]
     },
     "execution_count": 5,
     "metadata": {},
     "output_type": "execute_result"
    },
    {
     "data": {
      "image/png": "[encoded data removed]",
      "text/plain": [
       "<Figure size 936x432 with 1 Axes>"
      ]
     },
     "metadata": {
      "needs_background": "light"
     },
     "output_type": "display_data"
    }
   ],
   "source": [
    "# Plot close price column after pandemic crash\n",
    "\n",
    "hd_sliced = hd[\"Close\"].loc[\"2020-3-20\":\"2021-12-25\"]\n",
    "\n",
    "hd_sliced.plot(\n",
    "    figsize=(13,6)\n",
    ")\n"
   ]
  },
  {
   "cell_type": "markdown",
   "metadata": {},
   "source": [
    "Sliced - Sharpe"
   ]
  },
  {
   "cell_type": "code",
   "execution_count": 6,
   "metadata": {},
   "outputs": [
    {
     "name": "stdout",
     "output_type": "stream",
     "text": [
      "sliced returns    0.5786688789332923\n",
      "sliced std    0.26639733637789476\n",
      "sliced sharpe    2.172202195416956\n"
     ]
    }
   ],
   "source": [
    "# annual returns\n",
    "\n",
    "hd_sliced_annual_returns = (hd_sliced.pct_change().dropna()).mean() * 252\n",
    "\n",
    "\n",
    "# annual std deviation\n",
    "\n",
    "hd_sliced_annual_std = ((hd_sliced.pct_change().dropna()).std()) * np.sqrt(252)\n",
    "\n",
    "\n",
    "# sharpe ratio\n",
    "\n",
    "hd_sliced_sharpe = hd_sliced_annual_returns / hd_sliced_annual_std\n",
    "\n",
    "\n",
    "print(f\"sliced returns    {hd_sliced_annual_returns}\")\n",
    "\n",
    "print(f\"sliced std    {hd_sliced_annual_std}\")\n",
    "\n",
    "print(f\"sliced sharpe    {hd_sliced_sharpe}\")\n"
   ]
  }
 ],
 "metadata": {
  "interpreter": {
   "hash": "94f5251e701b57bc4b73cb646e598269233ff9addb0c9b7607e15955ec6c5d3b"
  },
  "kernelspec": {
   "display_name": "Python 3.7.10 64-bit ('pyviz': conda)",
   "language": "python",
   "name": "python3"
  },
  "language_info": {
   "codemirror_mode": {
    "name": "ipython",
    "version": 3
   },
   "file_extension": ".py",
   "mimetype": "text/x-python",
   "name": "python",
   "nbconvert_exporter": "python",
   "pygments_lexer": "ipython3",
   "version": "3.7.10"
  },
  "orig_nbformat": 4
 },
 "nbformat": 4,
 "nbformat_minor": 2
}
