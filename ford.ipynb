{
 "cells": [
  {
   "cell_type": "markdown",
   "metadata": {},
   "source": [
    "Imports"
   ]
  },
  {
   "cell_type": "code",
   "execution_count": 14,
   "metadata": {},
   "outputs": [],
   "source": [
    "#Imports\n",
    "\n",
    "import os\n",
    "import requests\n",
    "import json\n",
    "import pandas as pd\n",
    "import numpy as np\n",
    "import alpaca_trade_api as alpaca\n",
    "from alpaca_trade_api import REST, TimeFrame\n"
   ]
  },
  {
   "cell_type": "markdown",
   "metadata": {},
   "source": [
    "Ford Data"
   ]
  },
  {
   "cell_type": "code",
   "execution_count": 15,
   "metadata": {},
   "outputs": [
    {
     "data": {
      "text/html": [
       "<div>\n",
       "<style scoped>\n",
       "    .dataframe tbody tr th:only-of-type {\n",
       "        vertical-align: middle;\n",
       "    }\n",
       "\n",
       "    .dataframe tbody tr th {\n",
       "        vertical-align: top;\n",
       "    }\n",
       "\n",
       "    .dataframe thead th {\n",
       "        text-align: right;\n",
       "    }\n",
       "</style>\n",
       "<table border=\"1\" class=\"dataframe\">\n",
       "  <thead>\n",
       "    <tr style=\"text-align: right;\">\n",
       "      <th></th>\n",
       "      <th>Open</th>\n",
       "      <th>High</th>\n",
       "      <th>Low</th>\n",
       "      <th>Close</th>\n",
       "      <th>Adj Close</th>\n",
       "      <th>Volume</th>\n",
       "    </tr>\n",
       "    <tr>\n",
       "      <th>Date</th>\n",
       "      <th></th>\n",
       "      <th></th>\n",
       "      <th></th>\n",
       "      <th></th>\n",
       "      <th></th>\n",
       "      <th></th>\n",
       "    </tr>\n",
       "  </thead>\n",
       "  <tbody>\n",
       "    <tr>\n",
       "      <th>2017-01-03</th>\n",
       "      <td>12.200000</td>\n",
       "      <td>12.600000</td>\n",
       "      <td>12.130000</td>\n",
       "      <td>12.590000</td>\n",
       "      <td>10.204612</td>\n",
       "      <td>40510800</td>\n",
       "    </tr>\n",
       "    <tr>\n",
       "      <th>2017-01-04</th>\n",
       "      <td>12.770000</td>\n",
       "      <td>13.270000</td>\n",
       "      <td>12.740000</td>\n",
       "      <td>13.170000</td>\n",
       "      <td>10.674719</td>\n",
       "      <td>77638100</td>\n",
       "    </tr>\n",
       "    <tr>\n",
       "      <th>2017-01-05</th>\n",
       "      <td>13.210000</td>\n",
       "      <td>13.220000</td>\n",
       "      <td>12.630000</td>\n",
       "      <td>12.770000</td>\n",
       "      <td>10.350507</td>\n",
       "      <td>75628400</td>\n",
       "    </tr>\n",
       "    <tr>\n",
       "      <th>2017-01-06</th>\n",
       "      <td>12.800000</td>\n",
       "      <td>12.840000</td>\n",
       "      <td>12.640000</td>\n",
       "      <td>12.760000</td>\n",
       "      <td>10.342403</td>\n",
       "      <td>40315900</td>\n",
       "    </tr>\n",
       "    <tr>\n",
       "      <th>2017-01-09</th>\n",
       "      <td>12.790000</td>\n",
       "      <td>12.860000</td>\n",
       "      <td>12.630000</td>\n",
       "      <td>12.630000</td>\n",
       "      <td>10.237034</td>\n",
       "      <td>39438400</td>\n",
       "    </tr>\n",
       "    <tr>\n",
       "      <th>...</th>\n",
       "      <td>...</td>\n",
       "      <td>...</td>\n",
       "      <td>...</td>\n",
       "      <td>...</td>\n",
       "      <td>...</td>\n",
       "      <td>...</td>\n",
       "    </tr>\n",
       "    <tr>\n",
       "      <th>2021-12-17</th>\n",
       "      <td>20.030001</td>\n",
       "      <td>20.240000</td>\n",
       "      <td>19.600000</td>\n",
       "      <td>19.770000</td>\n",
       "      <td>19.770000</td>\n",
       "      <td>98710700</td>\n",
       "    </tr>\n",
       "    <tr>\n",
       "      <th>2021-12-20</th>\n",
       "      <td>19.459999</td>\n",
       "      <td>19.620001</td>\n",
       "      <td>19.049999</td>\n",
       "      <td>19.420000</td>\n",
       "      <td>19.420000</td>\n",
       "      <td>74565600</td>\n",
       "    </tr>\n",
       "    <tr>\n",
       "      <th>2021-12-21</th>\n",
       "      <td>19.750000</td>\n",
       "      <td>19.790001</td>\n",
       "      <td>19.330000</td>\n",
       "      <td>19.610001</td>\n",
       "      <td>19.610001</td>\n",
       "      <td>58930900</td>\n",
       "    </tr>\n",
       "    <tr>\n",
       "      <th>2021-12-22</th>\n",
       "      <td>19.639999</td>\n",
       "      <td>20.340000</td>\n",
       "      <td>19.639999</td>\n",
       "      <td>20.139999</td>\n",
       "      <td>20.139999</td>\n",
       "      <td>75806400</td>\n",
       "    </tr>\n",
       "    <tr>\n",
       "      <th>2021-12-23</th>\n",
       "      <td>20.080000</td>\n",
       "      <td>20.410000</td>\n",
       "      <td>20.000000</td>\n",
       "      <td>20.250000</td>\n",
       "      <td>20.250000</td>\n",
       "      <td>50516400</td>\n",
       "    </tr>\n",
       "  </tbody>\n",
       "</table>\n",
       "<p>1254 rows × 6 columns</p>\n",
       "</div>"
      ],
      "text/plain": [
       "                 Open       High        Low      Close  Adj Close    Volume\n",
       "Date                                                                       \n",
       "2017-01-03  12.200000  12.600000  12.130000  12.590000  10.204612  40510800\n",
       "2017-01-04  12.770000  13.270000  12.740000  13.170000  10.674719  77638100\n",
       "2017-01-05  13.210000  13.220000  12.630000  12.770000  10.350507  75628400\n",
       "2017-01-06  12.800000  12.840000  12.640000  12.760000  10.342403  40315900\n",
       "2017-01-09  12.790000  12.860000  12.630000  12.630000  10.237034  39438400\n",
       "...               ...        ...        ...        ...        ...       ...\n",
       "2021-12-17  20.030001  20.240000  19.600000  19.770000  19.770000  98710700\n",
       "2021-12-20  19.459999  19.620001  19.049999  19.420000  19.420000  74565600\n",
       "2021-12-21  19.750000  19.790001  19.330000  19.610001  19.610001  58930900\n",
       "2021-12-22  19.639999  20.340000  19.639999  20.139999  20.139999  75806400\n",
       "2021-12-23  20.080000  20.410000  20.000000  20.250000  20.250000  50516400\n",
       "\n",
       "[1254 rows x 6 columns]"
      ]
     },
     "execution_count": 15,
     "metadata": {},
     "output_type": "execute_result"
    }
   ],
   "source": [
    "# Read Ford data from 1.1.17 - 12.25.21\n",
    "\n",
    "f = pd.read_csv(\"Data/f.csv\",\n",
    "    index_col=\"Date\",\n",
    "    parse_dates=True,\n",
    "    infer_datetime_format=True\n",
    ")\n",
    "\n",
    "f\n"
   ]
  },
  {
   "cell_type": "markdown",
   "metadata": {},
   "source": [
    "Close price plot"
   ]
  },
  {
   "cell_type": "code",
   "execution_count": 16,
   "metadata": {},
   "outputs": [
    {
     "data": {
      "text/plain": [
       "<AxesSubplot:xlabel='Date'>"
      ]
     },
     "execution_count": 16,
     "metadata": {},
     "output_type": "execute_result"
    },
    {
     "data": {
      "image/png": "[encoded data removed]",
      "text/plain": [
       "<Figure size 936x432 with 1 Axes>"
      ]
     },
     "metadata": {
      "needs_background": "light"
     },
     "output_type": "display_data"
    }
   ],
   "source": [
    "f[\"Close\"].plot(\n",
    "    figsize=(13,6)\n",
    ")\n"
   ]
  },
  {
   "cell_type": "markdown",
   "metadata": {},
   "source": [
    "Sharpe"
   ]
  },
  {
   "cell_type": "code",
   "execution_count": 17,
   "metadata": {},
   "outputs": [
    {
     "name": "stdout",
     "output_type": "stream",
     "text": [
      "returns    0.1629234857588135\n",
      "std    0.3692032571355435\n",
      "sharpe    0.44128398818269454\n"
     ]
    }
   ],
   "source": [
    "# Annual Returns\n",
    "\n",
    "f_annual_returns = (f[\"Close\"].pct_change().dropna()).mean() * 252\n",
    "\n",
    "\n",
    "# Annual std Deviation\n",
    "\n",
    "f_annual_std = ((f[\"Close\"].pct_change().dropna()).std()) * np.sqrt(252)\n",
    "\n",
    "\n",
    "# Sharpe\n",
    "\n",
    "f_sharpe = f_annual_returns / f_annual_std\n",
    "\n",
    "\n",
    "print(f\"returns    {f_annual_returns}\")\n",
    "\n",
    "print(f\"std    {f_annual_std}\")\n",
    "\n",
    "print(f\"sharpe    {f_sharpe}\")\n"
   ]
  },
  {
   "cell_type": "markdown",
   "metadata": {},
   "source": [
    "Sliced -Close price plot"
   ]
  },
  {
   "cell_type": "code",
   "execution_count": 18,
   "metadata": {},
   "outputs": [
    {
     "data": {
      "text/plain": [
       "<AxesSubplot:xlabel='Date'>"
      ]
     },
     "execution_count": 18,
     "metadata": {},
     "output_type": "execute_result"
    },
    {
     "data": {
      "image/png": "[encoded data removed]",
      "text/plain": [
       "<Figure size 936x432 with 1 Axes>"
      ]
     },
     "metadata": {
      "needs_background": "light"
     },
     "output_type": "display_data"
    }
   ],
   "source": [
    "# Plot close price column after pandemic crash\n",
    "\n",
    "f_sliced = f[\"Close\"].loc[\"2020-3-20\":\"2021-12-25\"]\n",
    "\n",
    "f_sliced.plot(\n",
    "    figsize=(13,6)\n",
    ")\n"
   ]
  },
  {
   "cell_type": "markdown",
   "metadata": {},
   "source": [
    "Sliced - Sharpe"
   ]
  },
  {
   "cell_type": "code",
   "execution_count": 19,
   "metadata": {},
   "outputs": [
    {
     "name": "stdout",
     "output_type": "stream",
     "text": [
      "sliced returns    0.9891704875293401\n",
      "sliced std    0.48427475283449334\n",
      "sliced sharpe    2.0425811623250176\n"
     ]
    }
   ],
   "source": [
    "# annual returns\n",
    "\n",
    "f_sliced_annual_returns = (f_sliced.pct_change().dropna()).mean() * 252\n",
    "\n",
    "\n",
    "# annual std deviation\n",
    "\n",
    "f_sliced_annual_std = ((f_sliced.pct_change().dropna()).std()) * np.sqrt(252)\n",
    "\n",
    "\n",
    "# sharpe ratio\n",
    "\n",
    "f_sliced_sharpe = f_sliced_annual_returns / f_sliced_annual_std\n",
    "\n",
    "\n",
    "print(f\"sliced returns    {f_sliced_annual_returns}\")\n",
    "\n",
    "print(f\"sliced std    {f_sliced_annual_std}\")\n",
    "\n",
    "print(f\"sliced sharpe    {f_sliced_sharpe}\")\n"
   ]
  }
 ],
 "metadata": {
  "interpreter": {
   "hash": "94f5251e701b57bc4b73cb646e598269233ff9addb0c9b7607e15955ec6c5d3b"
  },
  "kernelspec": {
   "display_name": "Python 3.7.10 64-bit ('pyviz': conda)",
   "language": "python",
   "name": "python3"
  },
  "language_info": {
   "codemirror_mode": {
    "name": "ipython",
    "version": 3
   },
   "file_extension": ".py",
   "mimetype": "text/x-python",
   "name": "python",
   "nbconvert_exporter": "python",
   "pygments_lexer": "ipython3",
   "version": "3.7.10"
  },
  "orig_nbformat": 4
 },
 "nbformat": 4,
 "nbformat_minor": 2
}
